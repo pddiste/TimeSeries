{
  "nbformat": 4,
  "nbformat_minor": 0,
  "metadata": {
    "colab": {
      "name": "UK-changeforest-01.ipynb",
      "provenance": [],
      "collapsed_sections": [],
      "authorship_tag": "ABX9TyPGolcaptZ2DsMbPcPpqXGY",
      "include_colab_link": true
    },
    "kernelspec": {
      "name": "python3",
      "display_name": "Python 3"
    },
    "language_info": {
      "name": "python"
    }
  },
  "cells": [
    {
      "cell_type": "markdown",
      "metadata": {
        "id": "view-in-github",
        "colab_type": "text"
      },
      "source": [
        "<a href=\"https://colab.research.google.com/github/pddiste/TimeSeries/blob/master/UK_changeforest_01.ipynb\" target=\"_parent\"><img src=\"https://colab.research.google.com/assets/colab-badge.svg\" alt=\"Open In Colab\"/></a>"
      ]
    },
    {
      "cell_type": "code",
      "execution_count": 25,
      "metadata": {
        "id": "jL3hM3n7oviF",
        "colab": {
          "base_uri": "https://localhost:8080/"
        },
        "outputId": "fde7f87f-ad23-48ee-c92f-1ca52f981a38"
      },
      "outputs": [
        {
          "output_type": "stream",
          "name": "stdout",
          "text": [
            "Requirement already satisfied: changeforest in /usr/local/lib/python3.7/dist-packages (0.7.2)\n",
            "--2022-05-20 16:06:00--  https://raw.githubusercontent.com/pddiste/TimeSeries/master/UK.csv\n",
            "Resolving raw.githubusercontent.com (raw.githubusercontent.com)... 185.199.111.133, 185.199.108.133, 185.199.109.133, ...\n",
            "Connecting to raw.githubusercontent.com (raw.githubusercontent.com)|185.199.111.133|:443... connected.\n",
            "HTTP request sent, awaiting response... 200 OK\n",
            "Length: 2414 (2.4K) [text/plain]\n",
            "Saving to: ‘UK.csv.1’\n",
            "\n",
            "UK.csv.1            100%[===================>]   2.36K  --.-KB/s    in 0s      \n",
            "\n",
            "2022-05-20 16:06:00 (16.5 MB/s) - ‘UK.csv.1’ saved [2414/2414]\n",
            "\n"
          ]
        }
      ],
      "source": [
        "!pip install changeforest\n",
        "\n",
        "!wget https://raw.githubusercontent.com/pddiste/TimeSeries/master/UK.csv"
      ]
    },
    {
      "cell_type": "code",
      "source": [
        "import numpy as np\n",
        "import pandas as pd\n",
        "import matplotlib.pyplot as plt\n",
        "\n",
        "\n",
        "#uk = pd.read_csv(\"UK_norm.csv\", sep=';', decimal=',')\n",
        "uk = pd.read_csv(\"UK.csv\",sep=';', decimal=',')\n",
        "uk = uk.rename(columns={'date':'time'})       # ts implica 'time'\n",
        "print(uk.info(verbose=True))\n",
        "print(uk.head())"
      ],
      "metadata": {
        "id": "--8eQYE7oxfm",
        "colab": {
          "base_uri": "https://localhost:8080/"
        },
        "outputId": "bd17a3ba-1a67-4980-c121-8f02d85f4e9c"
      },
      "execution_count": 26,
      "outputs": [
        {
          "output_type": "stream",
          "name": "stdout",
          "text": [
            "<class 'pandas.core.frame.DataFrame'>\n",
            "RangeIndex: 40 entries, 0 to 39\n",
            "Data columns (total 7 columns):\n",
            " #   Column              Non-Null Count  Dtype  \n",
            "---  ------              --------------  -----  \n",
            " 0   time                40 non-null     object \n",
            " 1   sessions            40 non-null     int64  \n",
            " 2   searches            40 non-null     int64  \n",
            " 3   bookings            40 non-null     int64  \n",
            " 4   searchesONsessions  40 non-null     float64\n",
            " 5   bookingsONsessions  40 non-null     float64\n",
            " 6   bookingsONsearches  40 non-null     float64\n",
            "dtypes: float64(3), int64(3), object(1)\n",
            "memory usage: 2.3+ KB\n",
            "None\n",
            "      time  sessions  searches  bookings  searchesONsessions  \\\n",
            "0  2019-01   7454104  11404088     75373            1.529907   \n",
            "1  2019-02   6791849   8546751     67871            1.258384   \n",
            "2  2019-03   7151561   9545732     80871            1.334776   \n",
            "3  2019-04   7111621   9653586     74426            1.357438   \n",
            "4  2019-05   7799312  11082118     81373            1.420910   \n",
            "\n",
            "   bookingsONsessions  bookingsONsearches  \n",
            "0            0.010112            0.006609  \n",
            "1            0.009993            0.007941  \n",
            "2            0.011308            0.008472  \n",
            "3            0.010465            0.007710  \n",
            "4            0.010433            0.007343  \n"
          ]
        }
      ]
    },
    {
      "cell_type": "code",
      "source": [
        "# preprazione dati x changeforest\n",
        "\n",
        "from changeforest import changeforest\n",
        "\n",
        "varTest = ['sessions', 'searches', 'bookings']\n",
        "\n",
        "splitPoints=[]\n",
        "\n",
        "for vv in varTest:\n",
        "\n",
        "    print('---')\n",
        "    print('--- ', vv, ' ---')\n",
        "    print('---')\n",
        "\n",
        "    d= uk[vv].shape[0]\n",
        "    ss = np.full((d), 0.0)\n",
        "    ss = uk[vv]\n",
        "\n",
        "    #print(ss.dtype)\n",
        "    print(ss.shape)\n",
        "\n",
        "    x = np.full((40,2),0.0)\n",
        "    print(x.dtype)\n",
        "    print(x.shape)\n",
        "          \n",
        "    x[:,1] = ss\n",
        "\n",
        "    a = np.arange(0.0, 40)\n",
        "    x[:,0] = a\n",
        "    #print(x)\n",
        "\n",
        "    result = changeforest(x, \"random_forest\", \"bs\")\n",
        "    print(result)\n",
        "    print(result.split_points())\n",
        "\n",
        "    splitPoints.append(result.split_points())\n"
      ],
      "metadata": {
        "id": "NoNYVCfx_EjS",
        "colab": {
          "base_uri": "https://localhost:8080/"
        },
        "outputId": "8b148b09-853b-4917-f8d7-c703d7d56158"
      },
      "execution_count": 27,
      "outputs": [
        {
          "output_type": "stream",
          "name": "stdout",
          "text": [
            "---\n",
            "---  sessions  ---\n",
            "---\n",
            "(40,)\n",
            "float64\n",
            "(40, 2)\n",
            "                      best_split max_gain p_value\n",
            "(0, 40]                       18   26.009   0.005\n",
            " ¦--(0, 18]                   11    10.79   0.005\n",
            " ¦   ¦--(0, 11]                4     5.54    0.01\n",
            " ¦   ¦   ¦--(0, 4]             1        0    0.28\n",
            " ¦   ¦   °--(4, 11]            9    3.328     0.1\n",
            " ¦   °--(11, 18]              14    4.978    0.02\n",
            " ¦       ¦--(11, 14]          12        0       1\n",
            " ¦       °--(14, 18]          15        0    0.28\n",
            " °--(18, 40]                  28   13.466   0.005\n",
            "     ¦--(18, 28]              22     6.48    0.01\n",
            "     ¦   ¦--(18, 22]          20    3.622   0.165\n",
            "     ¦   °--(22, 28]          24    2.648    0.06\n",
            "     °--(28, 40]              35    6.077   0.005\n",
            "         ¦--(28, 35]          30    3.953   0.025\n",
            "         °--(35, 40]          36    2.635    0.13\n",
            "[4, 11, 14, 18, 22, 28, 35]\n",
            "---\n",
            "---  searches  ---\n",
            "---\n",
            "(40,)\n",
            "float64\n",
            "(40, 2)\n",
            "                      best_split max_gain p_value\n",
            "(0, 40]                       17   26.783   0.005\n",
            " ¦--(0, 17]                   10    9.922   0.005\n",
            " ¦   ¦--(0, 10]                5    5.789    0.01\n",
            " ¦   ¦   ¦--(0, 5]             1    1.179    0.28\n",
            " ¦   ¦   °--(5, 10]            6    0.795    0.28\n",
            " ¦   °--(10, 17]              14    5.367   0.025\n",
            " °--(17, 40]                  28   13.652   0.005\n",
            "     ¦--(17, 28]              22    7.718   0.005\n",
            "     ¦   ¦--(17, 22]          18    1.011    0.28\n",
            "     ¦   °--(22, 28]          26    3.417    0.14\n",
            "     °--(28, 40]              35    5.869   0.005\n",
            "         ¦--(28, 35]          30    3.953   0.025\n",
            "         °--(35, 40]          36    2.922    0.13\n",
            "[5, 10, 17, 22, 28, 35]\n",
            "---\n",
            "---  bookings  ---\n",
            "---\n",
            "(40,)\n",
            "float64\n",
            "(40, 2)\n",
            "                      best_split max_gain p_value\n",
            "(0, 40]                       18   26.557   0.005\n",
            " ¦--(0, 18]                   11   10.878   0.005\n",
            " ¦   ¦--(0, 11]                4    5.401   0.015\n",
            " ¦   ¦   ¦--(0, 4]             1        0    0.28\n",
            " ¦   ¦   °--(4, 11]            9    4.424    0.03\n",
            " ¦   °--(11, 18]              14     5.16    0.02\n",
            " ¦       ¦--(11, 14]          12        0       1\n",
            " ¦       °--(14, 18]          15        0    0.28\n",
            " °--(18, 40]                  29   13.185   0.005\n",
            "     ¦--(18, 29]              21     6.29    0.01\n",
            "     ¦   ¦--(18, 21]          19        0       1\n",
            "     ¦   °--(21, 29]          26    3.062     0.1\n",
            "     °--(29, 40]              36    6.448   0.005\n",
            "         ¦--(29, 36]          32    3.282   0.055\n",
            "         °--(36, 40]          38    3.622   0.165\n",
            "[4, 11, 14, 18, 21, 29, 36]\n"
          ]
        }
      ]
    },
    {
      "cell_type": "code",
      "source": [
        "print(varTest)\n",
        "print(splitPoints)"
      ],
      "metadata": {
        "colab": {
          "base_uri": "https://localhost:8080/"
        },
        "id": "VuduIZ7jNci5",
        "outputId": "ee1691d9-4203-4cde-dc0c-4d411d1e7f83"
      },
      "execution_count": 31,
      "outputs": [
        {
          "output_type": "stream",
          "name": "stdout",
          "text": [
            "['sessions', 'searches', 'bookings']\n",
            "[[4, 11, 14, 18, 22, 28, 35], [5, 10, 17, 22, 28, 35], [4, 11, 14, 18, 21, 29, 36]]\n"
          ]
        }
      ]
    },
    {
      "cell_type": "code",
      "source": [
        "for ii in range(len(splitPoints)):\n",
        "      print('--- ', varTest[ii], ' ---')\n",
        "      print(uk['time'][splitPoints[ii]])\n",
        "\n"
      ],
      "metadata": {
        "colab": {
          "base_uri": "https://localhost:8080/"
        },
        "id": "W2IsNxthNulv",
        "outputId": "508a782b-8cd2-47ed-d62c-8087a74b8a20"
      },
      "execution_count": 43,
      "outputs": [
        {
          "output_type": "stream",
          "name": "stdout",
          "text": [
            "---  sessions  ---\n",
            "4     2019-05\n",
            "11    2019-12\n",
            "14    2020-03\n",
            "18    2020-07\n",
            "22    2020-11\n",
            "28    2021-05\n",
            "35    2021-12\n",
            "Name: time, dtype: object\n",
            "---  searches  ---\n",
            "5     2019-06\n",
            "10    2019-11\n",
            "17    2020-06\n",
            "22    2020-11\n",
            "28    2021-05\n",
            "35    2021-12\n",
            "Name: time, dtype: object\n",
            "---  bookings  ---\n",
            "4     2019-05\n",
            "11    2019-12\n",
            "14    2020-03\n",
            "18    2020-07\n",
            "21    2020-10\n",
            "29    2021-06\n",
            "36    2022-01\n",
            "Name: time, dtype: object\n"
          ]
        }
      ]
    },
    {
      "cell_type": "code",
      "source": [
        ""
      ],
      "metadata": {
        "id": "D56rDlqAOuvO"
      },
      "execution_count": null,
      "outputs": []
    }
  ]
}