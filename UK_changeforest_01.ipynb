{
  "nbformat": 4,
  "nbformat_minor": 0,
  "metadata": {
    "colab": {
      "name": "UK-changeforest-01.ipynb",
      "provenance": [],
      "collapsed_sections": [],
      "authorship_tag": "ABX9TyPNeedBzonF1MQ8hs8U3/Yt",
      "include_colab_link": true
    },
    "kernelspec": {
      "name": "python3",
      "display_name": "Python 3"
    },
    "language_info": {
      "name": "python"
    }
  },
  "cells": [
    {
      "cell_type": "markdown",
      "metadata": {
        "id": "view-in-github",
        "colab_type": "text"
      },
      "source": [
        "<a href=\"https://colab.research.google.com/github/pddiste/TimeSeries/blob/master/UK_changeforest_01.ipynb\" target=\"_parent\"><img src=\"https://colab.research.google.com/assets/colab-badge.svg\" alt=\"Open In Colab\"/></a>"
      ]
    },
    {
      "cell_type": "code",
      "execution_count": 1,
      "metadata": {
        "id": "jL3hM3n7oviF",
        "colab": {
          "base_uri": "https://localhost:8080/"
        },
        "outputId": "cb2fef35-5a90-46db-cc77-29ead14b71c5"
      },
      "outputs": [
        {
          "output_type": "stream",
          "name": "stdout",
          "text": [
            "Collecting changeforest\n",
            "  Downloading changeforest-0.7.2-cp37-cp37m-manylinux_2_17_x86_64.manylinux2014_x86_64.whl (1.2 MB)\n",
            "\u001b[?25l\r\u001b[K     |▎                               | 10 kB 18.2 MB/s eta 0:00:01\r\u001b[K     |▌                               | 20 kB 11.2 MB/s eta 0:00:01\r\u001b[K     |▉                               | 30 kB 9.2 MB/s eta 0:00:01\r\u001b[K     |█                               | 40 kB 7.0 MB/s eta 0:00:01\r\u001b[K     |█▍                              | 51 kB 4.3 MB/s eta 0:00:01\r\u001b[K     |█▋                              | 61 kB 5.0 MB/s eta 0:00:01\r\u001b[K     |██                              | 71 kB 5.2 MB/s eta 0:00:01\r\u001b[K     |██▏                             | 81 kB 5.3 MB/s eta 0:00:01\r\u001b[K     |██▌                             | 92 kB 5.9 MB/s eta 0:00:01\r\u001b[K     |██▊                             | 102 kB 4.6 MB/s eta 0:00:01\r\u001b[K     |███                             | 112 kB 4.6 MB/s eta 0:00:01\r\u001b[K     |███▎                            | 122 kB 4.6 MB/s eta 0:00:01\r\u001b[K     |███▌                            | 133 kB 4.6 MB/s eta 0:00:01\r\u001b[K     |███▉                            | 143 kB 4.6 MB/s eta 0:00:01\r\u001b[K     |████                            | 153 kB 4.6 MB/s eta 0:00:01\r\u001b[K     |████▍                           | 163 kB 4.6 MB/s eta 0:00:01\r\u001b[K     |████▋                           | 174 kB 4.6 MB/s eta 0:00:01\r\u001b[K     |█████                           | 184 kB 4.6 MB/s eta 0:00:01\r\u001b[K     |█████▏                          | 194 kB 4.6 MB/s eta 0:00:01\r\u001b[K     |█████▍                          | 204 kB 4.6 MB/s eta 0:00:01\r\u001b[K     |█████▊                          | 215 kB 4.6 MB/s eta 0:00:01\r\u001b[K     |██████                          | 225 kB 4.6 MB/s eta 0:00:01\r\u001b[K     |██████▎                         | 235 kB 4.6 MB/s eta 0:00:01\r\u001b[K     |██████▌                         | 245 kB 4.6 MB/s eta 0:00:01\r\u001b[K     |██████▉                         | 256 kB 4.6 MB/s eta 0:00:01\r\u001b[K     |███████                         | 266 kB 4.6 MB/s eta 0:00:01\r\u001b[K     |███████▍                        | 276 kB 4.6 MB/s eta 0:00:01\r\u001b[K     |███████▋                        | 286 kB 4.6 MB/s eta 0:00:01\r\u001b[K     |███████▉                        | 296 kB 4.6 MB/s eta 0:00:01\r\u001b[K     |████████▏                       | 307 kB 4.6 MB/s eta 0:00:01\r\u001b[K     |████████▍                       | 317 kB 4.6 MB/s eta 0:00:01\r\u001b[K     |████████▊                       | 327 kB 4.6 MB/s eta 0:00:01\r\u001b[K     |█████████                       | 337 kB 4.6 MB/s eta 0:00:01\r\u001b[K     |█████████▎                      | 348 kB 4.6 MB/s eta 0:00:01\r\u001b[K     |█████████▌                      | 358 kB 4.6 MB/s eta 0:00:01\r\u001b[K     |█████████▉                      | 368 kB 4.6 MB/s eta 0:00:01\r\u001b[K     |██████████                      | 378 kB 4.6 MB/s eta 0:00:01\r\u001b[K     |██████████▍                     | 389 kB 4.6 MB/s eta 0:00:01\r\u001b[K     |██████████▋                     | 399 kB 4.6 MB/s eta 0:00:01\r\u001b[K     |██████████▉                     | 409 kB 4.6 MB/s eta 0:00:01\r\u001b[K     |███████████▏                    | 419 kB 4.6 MB/s eta 0:00:01\r\u001b[K     |███████████▍                    | 430 kB 4.6 MB/s eta 0:00:01\r\u001b[K     |███████████▊                    | 440 kB 4.6 MB/s eta 0:00:01\r\u001b[K     |████████████                    | 450 kB 4.6 MB/s eta 0:00:01\r\u001b[K     |████████████▎                   | 460 kB 4.6 MB/s eta 0:00:01\r\u001b[K     |████████████▌                   | 471 kB 4.6 MB/s eta 0:00:01\r\u001b[K     |████████████▉                   | 481 kB 4.6 MB/s eta 0:00:01\r\u001b[K     |█████████████                   | 491 kB 4.6 MB/s eta 0:00:01\r\u001b[K     |█████████████▎                  | 501 kB 4.6 MB/s eta 0:00:01\r\u001b[K     |█████████████▋                  | 512 kB 4.6 MB/s eta 0:00:01\r\u001b[K     |█████████████▉                  | 522 kB 4.6 MB/s eta 0:00:01\r\u001b[K     |██████████████▏                 | 532 kB 4.6 MB/s eta 0:00:01\r\u001b[K     |██████████████▍                 | 542 kB 4.6 MB/s eta 0:00:01\r\u001b[K     |██████████████▊                 | 552 kB 4.6 MB/s eta 0:00:01\r\u001b[K     |███████████████                 | 563 kB 4.6 MB/s eta 0:00:01\r\u001b[K     |███████████████▎                | 573 kB 4.6 MB/s eta 0:00:01\r\u001b[K     |███████████████▌                | 583 kB 4.6 MB/s eta 0:00:01\r\u001b[K     |███████████████▊                | 593 kB 4.6 MB/s eta 0:00:01\r\u001b[K     |████████████████                | 604 kB 4.6 MB/s eta 0:00:01\r\u001b[K     |████████████████▎               | 614 kB 4.6 MB/s eta 0:00:01\r\u001b[K     |████████████████▋               | 624 kB 4.6 MB/s eta 0:00:01\r\u001b[K     |████████████████▉               | 634 kB 4.6 MB/s eta 0:00:01\r\u001b[K     |█████████████████▏              | 645 kB 4.6 MB/s eta 0:00:01\r\u001b[K     |█████████████████▍              | 655 kB 4.6 MB/s eta 0:00:01\r\u001b[K     |█████████████████▊              | 665 kB 4.6 MB/s eta 0:00:01\r\u001b[K     |██████████████████              | 675 kB 4.6 MB/s eta 0:00:01\r\u001b[K     |██████████████████▎             | 686 kB 4.6 MB/s eta 0:00:01\r\u001b[K     |██████████████████▌             | 696 kB 4.6 MB/s eta 0:00:01\r\u001b[K     |██████████████████▊             | 706 kB 4.6 MB/s eta 0:00:01\r\u001b[K     |███████████████████             | 716 kB 4.6 MB/s eta 0:00:01\r\u001b[K     |███████████████████▎            | 727 kB 4.6 MB/s eta 0:00:01\r\u001b[K     |███████████████████▋            | 737 kB 4.6 MB/s eta 0:00:01\r\u001b[K     |███████████████████▉            | 747 kB 4.6 MB/s eta 0:00:01\r\u001b[K     |████████████████████▏           | 757 kB 4.6 MB/s eta 0:00:01\r\u001b[K     |████████████████████▍           | 768 kB 4.6 MB/s eta 0:00:01\r\u001b[K     |████████████████████▊           | 778 kB 4.6 MB/s eta 0:00:01\r\u001b[K     |█████████████████████           | 788 kB 4.6 MB/s eta 0:00:01\r\u001b[K     |█████████████████████▏          | 798 kB 4.6 MB/s eta 0:00:01\r\u001b[K     |█████████████████████▌          | 808 kB 4.6 MB/s eta 0:00:01\r\u001b[K     |█████████████████████▊          | 819 kB 4.6 MB/s eta 0:00:01\r\u001b[K     |██████████████████████          | 829 kB 4.6 MB/s eta 0:00:01\r\u001b[K     |██████████████████████▎         | 839 kB 4.6 MB/s eta 0:00:01\r\u001b[K     |██████████████████████▋         | 849 kB 4.6 MB/s eta 0:00:01\r\u001b[K     |██████████████████████▉         | 860 kB 4.6 MB/s eta 0:00:01\r\u001b[K     |███████████████████████▏        | 870 kB 4.6 MB/s eta 0:00:01\r\u001b[K     |███████████████████████▍        | 880 kB 4.6 MB/s eta 0:00:01\r\u001b[K     |███████████████████████▋        | 890 kB 4.6 MB/s eta 0:00:01\r\u001b[K     |████████████████████████        | 901 kB 4.6 MB/s eta 0:00:01\r\u001b[K     |████████████████████████▏       | 911 kB 4.6 MB/s eta 0:00:01\r\u001b[K     |████████████████████████▌       | 921 kB 4.6 MB/s eta 0:00:01\r\u001b[K     |████████████████████████▊       | 931 kB 4.6 MB/s eta 0:00:01\r\u001b[K     |█████████████████████████       | 942 kB 4.6 MB/s eta 0:00:01\r\u001b[K     |█████████████████████████▎      | 952 kB 4.6 MB/s eta 0:00:01\r\u001b[K     |█████████████████████████▋      | 962 kB 4.6 MB/s eta 0:00:01\r\u001b[K     |█████████████████████████▉      | 972 kB 4.6 MB/s eta 0:00:01\r\u001b[K     |██████████████████████████▏     | 983 kB 4.6 MB/s eta 0:00:01\r\u001b[K     |██████████████████████████▍     | 993 kB 4.6 MB/s eta 0:00:01\r\u001b[K     |██████████████████████████▋     | 1.0 MB 4.6 MB/s eta 0:00:01\r\u001b[K     |███████████████████████████     | 1.0 MB 4.6 MB/s eta 0:00:01\r\u001b[K     |███████████████████████████▏    | 1.0 MB 4.6 MB/s eta 0:00:01\r\u001b[K     |███████████████████████████▌    | 1.0 MB 4.6 MB/s eta 0:00:01\r\u001b[K     |███████████████████████████▊    | 1.0 MB 4.6 MB/s eta 0:00:01\r\u001b[K     |████████████████████████████    | 1.1 MB 4.6 MB/s eta 0:00:01\r\u001b[K     |████████████████████████████▎   | 1.1 MB 4.6 MB/s eta 0:00:01\r\u001b[K     |████████████████████████████▋   | 1.1 MB 4.6 MB/s eta 0:00:01\r\u001b[K     |████████████████████████████▉   | 1.1 MB 4.6 MB/s eta 0:00:01\r\u001b[K     |█████████████████████████████   | 1.1 MB 4.6 MB/s eta 0:00:01\r\u001b[K     |█████████████████████████████▍  | 1.1 MB 4.6 MB/s eta 0:00:01\r\u001b[K     |█████████████████████████████▋  | 1.1 MB 4.6 MB/s eta 0:00:01\r\u001b[K     |██████████████████████████████  | 1.1 MB 4.6 MB/s eta 0:00:01\r\u001b[K     |██████████████████████████████▏ | 1.1 MB 4.6 MB/s eta 0:00:01\r\u001b[K     |██████████████████████████████▌ | 1.1 MB 4.6 MB/s eta 0:00:01\r\u001b[K     |██████████████████████████████▊ | 1.2 MB 4.6 MB/s eta 0:00:01\r\u001b[K     |███████████████████████████████ | 1.2 MB 4.6 MB/s eta 0:00:01\r\u001b[K     |███████████████████████████████▎| 1.2 MB 4.6 MB/s eta 0:00:01\r\u001b[K     |███████████████████████████████▌| 1.2 MB 4.6 MB/s eta 0:00:01\r\u001b[K     |███████████████████████████████▉| 1.2 MB 4.6 MB/s eta 0:00:01\r\u001b[K     |████████████████████████████████| 1.2 MB 4.6 MB/s \n",
            "\u001b[?25hInstalling collected packages: changeforest\n",
            "Successfully installed changeforest-0.7.2\n",
            "--2022-05-20 15:48:31--  https://raw.githubusercontent.com/pddiste/TimeSeries/master/UK.csv\n",
            "Resolving raw.githubusercontent.com (raw.githubusercontent.com)... 185.199.110.133, 185.199.109.133, 185.199.108.133, ...\n",
            "Connecting to raw.githubusercontent.com (raw.githubusercontent.com)|185.199.110.133|:443... connected.\n",
            "HTTP request sent, awaiting response... 200 OK\n",
            "Length: 2414 (2.4K) [text/plain]\n",
            "Saving to: ‘UK.csv’\n",
            "\n",
            "UK.csv              100%[===================>]   2.36K  --.-KB/s    in 0s      \n",
            "\n",
            "2022-05-20 15:48:31 (26.1 MB/s) - ‘UK.csv’ saved [2414/2414]\n",
            "\n"
          ]
        }
      ],
      "source": [
        "!pip install changeforest\n",
        "\n",
        "!wget https://raw.githubusercontent.com/pddiste/TimeSeries/master/UK.csv"
      ]
    },
    {
      "cell_type": "code",
      "source": [
        "import numpy as np\n",
        "import pandas as pd\n",
        "import matplotlib.pyplot as plt\n",
        "\n",
        "\n",
        "#uk = pd.read_csv(\"UK_norm.csv\", sep=';', decimal=',')\n",
        "uk = pd.read_csv(\"UK.csv\",sep=';', decimal=',')\n",
        "uk = uk.rename(columns={'date':'time'})       # ts implica 'time'\n",
        "print(uk.info(verbose=True))\n",
        "print(uk.head())"
      ],
      "metadata": {
        "id": "--8eQYE7oxfm",
        "colab": {
          "base_uri": "https://localhost:8080/"
        },
        "outputId": "95146629-a494-4fc3-de9d-9a4db699630d"
      },
      "execution_count": 2,
      "outputs": [
        {
          "output_type": "stream",
          "name": "stdout",
          "text": [
            "<class 'pandas.core.frame.DataFrame'>\n",
            "RangeIndex: 40 entries, 0 to 39\n",
            "Data columns (total 7 columns):\n",
            " #   Column              Non-Null Count  Dtype  \n",
            "---  ------              --------------  -----  \n",
            " 0   time                40 non-null     object \n",
            " 1   sessions            40 non-null     int64  \n",
            " 2   searches            40 non-null     int64  \n",
            " 3   bookings            40 non-null     int64  \n",
            " 4   searchesONsessions  40 non-null     float64\n",
            " 5   bookingsONsessions  40 non-null     float64\n",
            " 6   bookingsONsearches  40 non-null     float64\n",
            "dtypes: float64(3), int64(3), object(1)\n",
            "memory usage: 2.3+ KB\n",
            "None\n",
            "      time  sessions  searches  bookings  searchesONsessions  \\\n",
            "0  2019-01   7454104  11404088     75373            1.529907   \n",
            "1  2019-02   6791849   8546751     67871            1.258384   \n",
            "2  2019-03   7151561   9545732     80871            1.334776   \n",
            "3  2019-04   7111621   9653586     74426            1.357438   \n",
            "4  2019-05   7799312  11082118     81373            1.420910   \n",
            "\n",
            "   bookingsONsessions  bookingsONsearches  \n",
            "0            0.010112            0.006609  \n",
            "1            0.009993            0.007941  \n",
            "2            0.011308            0.008472  \n",
            "3            0.010465            0.007710  \n",
            "4            0.010433            0.007343  \n"
          ]
        }
      ]
    },
    {
      "cell_type": "code",
      "source": [
        "# preprazione dati x changeforest\n",
        "\n",
        "from changeforest import changeforest\n",
        "\n",
        "varTest = ['sessions', 'searches', 'bookings']\n",
        "\n",
        "for vv in varTest:\n",
        "\n",
        "    print('---')\n",
        "    print('--- ', vv, ' ---')\n",
        "    print('---')\n",
        "\n",
        "    d= uk[vv].shape[0]\n",
        "    ss = np.full((d), 0.0)\n",
        "    ss = uk[vv]\n",
        "\n",
        "    #print(ss.dtype)\n",
        "    print(ss.shape)\n",
        "\n",
        "    x = np.full((40,2),0.0)\n",
        "    print(x.dtype)\n",
        "    print(x.shape)\n",
        "          \n",
        "    x[:,1] = ss\n",
        "\n",
        "    a = np.arange(0.0, 40)\n",
        "    x[:,0] = a\n",
        "    #print(x)\n",
        "\n",
        "    result = changeforest(x, \"random_forest\", \"bs\")\n",
        "    print(result)\n",
        "    print(result.split_points())\n"
      ],
      "metadata": {
        "id": "NoNYVCfx_EjS",
        "colab": {
          "base_uri": "https://localhost:8080/"
        },
        "outputId": "1468227e-71f7-44fc-8cc2-23cae74fff87"
      },
      "execution_count": 5,
      "outputs": [
        {
          "output_type": "stream",
          "name": "stdout",
          "text": [
            "---\n",
            "---  sessions  ---\n",
            "---\n",
            "(40,)\n",
            "float64\n",
            "(40, 2)\n",
            "                      best_split max_gain p_value\n",
            "(0, 40]                       18   26.009   0.005\n",
            " ¦--(0, 18]                   11    10.79   0.005\n",
            " ¦   ¦--(0, 11]                4     5.54    0.01\n",
            " ¦   ¦   ¦--(0, 4]             1        0    0.28\n",
            " ¦   ¦   °--(4, 11]            9    3.328     0.1\n",
            " ¦   °--(11, 18]              14    4.978    0.02\n",
            " ¦       ¦--(11, 14]          12        0       1\n",
            " ¦       °--(14, 18]          15        0    0.28\n",
            " °--(18, 40]                  28   13.466   0.005\n",
            "     ¦--(18, 28]              22     6.48    0.01\n",
            "     ¦   ¦--(18, 22]          20    3.622   0.165\n",
            "     ¦   °--(22, 28]          24    2.648    0.06\n",
            "     °--(28, 40]              35    6.077   0.005\n",
            "         ¦--(28, 35]          30    3.953   0.025\n",
            "         °--(35, 40]          36    2.635    0.13\n",
            "[4, 11, 14, 18, 22, 28, 35]\n",
            "---\n",
            "---  searches  ---\n",
            "---\n",
            "(40,)\n",
            "float64\n",
            "(40, 2)\n",
            "                      best_split max_gain p_value\n",
            "(0, 40]                       17   26.783   0.005\n",
            " ¦--(0, 17]                   10    9.922   0.005\n",
            " ¦   ¦--(0, 10]                5    5.789    0.01\n",
            " ¦   ¦   ¦--(0, 5]             1    1.179    0.28\n",
            " ¦   ¦   °--(5, 10]            6    0.795    0.28\n",
            " ¦   °--(10, 17]              14    5.367   0.025\n",
            " °--(17, 40]                  28   13.652   0.005\n",
            "     ¦--(17, 28]              22    7.718   0.005\n",
            "     ¦   ¦--(17, 22]          18    1.011    0.28\n",
            "     ¦   °--(22, 28]          26    3.417    0.14\n",
            "     °--(28, 40]              35    5.869   0.005\n",
            "         ¦--(28, 35]          30    3.953   0.025\n",
            "         °--(35, 40]          36    2.922    0.13\n",
            "[5, 10, 17, 22, 28, 35]\n",
            "---\n",
            "---  bookings  ---\n",
            "---\n",
            "(40,)\n",
            "float64\n",
            "(40, 2)\n",
            "                      best_split max_gain p_value\n",
            "(0, 40]                       18   26.557   0.005\n",
            " ¦--(0, 18]                   11   10.878   0.005\n",
            " ¦   ¦--(0, 11]                4    5.401   0.015\n",
            " ¦   ¦   ¦--(0, 4]             1        0    0.28\n",
            " ¦   ¦   °--(4, 11]            9    4.424    0.03\n",
            " ¦   °--(11, 18]              14     5.16    0.02\n",
            " ¦       ¦--(11, 14]          12        0       1\n",
            " ¦       °--(14, 18]          15        0    0.28\n",
            " °--(18, 40]                  29   13.185   0.005\n",
            "     ¦--(18, 29]              21     6.29    0.01\n",
            "     ¦   ¦--(18, 21]          19        0       1\n",
            "     ¦   °--(21, 29]          26    3.062     0.1\n",
            "     °--(29, 40]              36    6.448   0.005\n",
            "         ¦--(29, 36]          32    3.282   0.055\n",
            "         °--(36, 40]          38    3.622   0.165\n",
            "[4, 11, 14, 18, 21, 29, 36]\n"
          ]
        }
      ]
    }
  ]
}