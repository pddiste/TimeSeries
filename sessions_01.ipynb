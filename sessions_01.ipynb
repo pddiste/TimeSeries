{
  "nbformat": 4,
  "nbformat_minor": 0,
  "metadata": {
    "colab": {
      "name": "sessions-01.ipynb",
      "provenance": [],
      "collapsed_sections": [],
      "authorship_tag": "ABX9TyOpD89ywX701U7RzTRZOpiH",
      "include_colab_link": true
    },
    "kernelspec": {
      "name": "python3",
      "display_name": "Python 3"
    },
    "language_info": {
      "name": "python"
    }
  },
  "cells": [
    {
      "cell_type": "markdown",
      "metadata": {
        "id": "view-in-github",
        "colab_type": "text"
      },
      "source": [
        "<a href=\"https://colab.research.google.com/github/pddiste/TimeSeries/blob/master/sessions_01.ipynb\" target=\"_parent\"><img src=\"https://colab.research.google.com/assets/colab-badge.svg\" alt=\"Open In Colab\"/></a>"
      ]
    },
    {
      "cell_type": "code",
      "execution_count": 64,
      "metadata": {
        "id": "kbHR9lP9SpeF"
      },
      "outputs": [],
      "source": [
        "%%capture\n",
        "# For Google Colab:\n",
        "!pip install kats\n",
        "!wget https://raw.githubusercontent.com/pddiste/TimeSeries/master/UK.csv\n",
        "#!wget https://raw.githubusercontent.com/pddiste/TimeSeries/master/UK_norm.csv"
      ]
    },
    {
      "cell_type": "code",
      "source": [
        "import numpy as np\n",
        "import pandas as pd\n",
        "import matplotlib.pyplot as plt\n",
        "import logging\n",
        "from imp import reload\n",
        "from datetime import datetime, timedelta\n",
        "import sys\n",
        "sys.path.append(\"../\")\n",
        "\n",
        "from kats.consts import TimeSeriesData\n",
        "reload(logging)\n"
      ],
      "metadata": {
        "colab": {
          "base_uri": "https://localhost:8080/"
        },
        "id": "X7pGoI10S1gN",
        "outputId": "62e58a36-040d-4069-b539-e494594c7d0e"
      },
      "execution_count": 65,
      "outputs": [
        {
          "output_type": "execute_result",
          "data": {
            "text/plain": [
              "<module 'logging' from '/usr/lib/python3.7/logging/__init__.py'>"
            ]
          },
          "metadata": {},
          "execution_count": 65
        }
      ]
    },
    {
      "cell_type": "code",
      "source": [
        "uk = pd.read_csv(\"UK_norm.csv\", sep=';', decimal=',')\n",
        "uk = uk.rename(columns={'date':'time'})       # ts implica 'time'\n",
        "print(uk.info(verbose=True))"
      ],
      "metadata": {
        "colab": {
          "base_uri": "https://localhost:8080/"
        },
        "id": "FyegtRZTTGtC",
        "outputId": "29193d8a-e88c-47cb-dabc-56f6fb980b60"
      },
      "execution_count": 66,
      "outputs": [
        {
          "output_type": "stream",
          "name": "stdout",
          "text": [
            "<class 'pandas.core.frame.DataFrame'>\n",
            "RangeIndex: 40 entries, 0 to 39\n",
            "Data columns (total 5 columns):\n",
            " #   Column    Non-Null Count  Dtype  \n",
            "---  ------    --------------  -----  \n",
            " 0   time      40 non-null     object \n",
            " 1   year      40 non-null     int64  \n",
            " 2   month     40 non-null     int64  \n",
            " 3   sessions  40 non-null     float64\n",
            " 4   searches  40 non-null     float64\n",
            "dtypes: float64(2), int64(2), object(1)\n",
            "memory usage: 1.7+ KB\n",
            "None\n"
          ]
        }
      ]
    },
    {
      "cell_type": "code",
      "source": [
        "# import packages\n",
        "from kats.detectors.cusum_detection import CUSUMDetector\n",
        "\n",
        "tsd = TimeSeriesData(uk.loc[:,['time','sessions']])\n",
        "\n",
        "detector = CUSUMDetector(tsd)\n",
        "change_points = detector.detector()\n",
        "#change_points = detector.detector(change_directions=[\"decrease\"])\n",
        "#change_points = detector.detector(change_directions=[\"increase\"])\n",
        "\n",
        "detector.plot(change_points)\n",
        "plt.xticks(rotation=45)\n",
        "plt.show()\n"
      ],
      "metadata": {
        "colab": {
          "base_uri": "https://localhost:8080/",
          "height": 309
        },
        "id": "R1i4hrLd-8L-",
        "outputId": "cccba002-b6e2-4a8f-c267-7cffb66af85b"
      },
      "execution_count": 67,
      "outputs": [
        {
          "output_type": "stream",
          "name": "stderr",
          "text": [
            "WARNING:root:No change points detected!\n"
          ]
        },
        {
          "output_type": "display_data",
          "data": {
            "text/plain": [
              "<Figure size 432x288 with 1 Axes>"
            ],
            "image/png": "[encoded data removed]"
          },
          "metadata": {
            "needs_background": "light"
          }
        }
      ]
    },
    {
      "cell_type": "code",
      "source": [
        "print('# cp =', len(change_points))\n",
        "\n",
        "change_point= change_points[0]\n",
        "print(change_point)\n",
        "\n",
        "print('cp_time','=', change_point.start_time, \" <--> \",change_point.end_time) \n",
        "print('') \n",
        "print('confidence','=', change_point.confidence) \n",
        "print('direction','=', change_point.direction) \n",
        "print('cp_index','=', change_point.cp_index) \n",
        "print('mu0','=', change_point.mu0) \n",
        "print('mu1','=', change_point.mu1) \n",
        "print('delta','=', change_point.delta) \n",
        "print('llr_int','=', change_point.llr_int) \n",
        "print('llr','=',change_point.llr) \n",
        "print('regression_detected','=',change_point.regression_detected) \n",
        "print('stable_changepoint','=',change_point.stable_changepoint) \n",
        "print('p_value','=',change_point.p_value) \n",
        "print('p_value_int','=',change_point.p_value_int) "
      ],
      "metadata": {
        "colab": {
          "base_uri": "https://localhost:8080/"
        },
        "id": "Gj6k9QuUADX8",
        "outputId": "03c48650-dc61-47bb-c523-36145a0cf638"
      },
      "execution_count": 68,
      "outputs": [
        {
          "output_type": "stream",
          "name": "stdout",
          "text": [
            "# cp = 1\n",
            "CUSUMChangePoint(start_time: 2020-02-01 00:00:00, end_time: 2020-02-01 00:00:00, confidence: 0.9999999999305713, direction: decrease, index: 13, delta: -1.7194978736263735, regression_detected: True, stable_changepoint: True, mu0: 1.1176736428571428, mu1: -0.6018242307692308, llr: 46.7814410014017, llr_int: inf, p_value: 6.942868502335386e-11, p_value_int: nan)\n",
            "cp_time = 2020-02-01 00:00:00  <-->  2020-02-01 00:00:00\n",
            "\n",
            "confidence = 0.9999999999305713\n",
            "direction = decrease\n",
            "cp_index = 13\n",
            "mu0 = 1.1176736428571428\n",
            "mu1 = -0.6018242307692308\n",
            "delta = -1.7194978736263735\n",
            "llr_int = inf\n",
            "llr = 46.7814410014017\n",
            "regression_detected = True\n",
            "stable_changepoint = True\n",
            "p_value = 6.942868502335386e-11\n",
            "p_value_int = nan\n"
          ]
        }
      ]
    },
    {
      "cell_type": "code",
      "source": [
        "# import package\n",
        "from kats.detectors.robust_stat_detection import RobustStatDetector\n",
        "\n",
        "tsd = TimeSeriesData(uk.loc[:,['time','sessions']])\n",
        "detector = RobustStatDetector(tsd)\n",
        "change_points = detector.detector()\n",
        "\n",
        "detector.plot(change_points)\n",
        "plt.xticks(rotation=45)\n",
        "plt.show()"
      ],
      "metadata": {
        "colab": {
          "base_uri": "https://localhost:8080/",
          "height": 309
        },
        "id": "YqgV5urXO6dH",
        "outputId": "b660a999-7972-4c3c-daaa-3317c9a4ff29"
      },
      "execution_count": 69,
      "outputs": [
        {
          "output_type": "stream",
          "name": "stderr",
          "text": [
            "WARNING:root:No change points detected!\n"
          ]
        },
        {
          "output_type": "display_data",
          "data": {
            "text/plain": [
              "<Figure size 432x288 with 1 Axes>"
            ],
            "image/png": "[encoded data removed]"
          },
          "metadata": {
            "needs_background": "light"
          }
        }
      ]
    },
    {
      "cell_type": "code",
      "source": [
        "change_point = change_points[0]\n",
        "change_point"
      ],
      "metadata": {
        "colab": {
          "base_uri": "https://localhost:8080/"
        },
        "id": "wet4QzrHd77f",
        "outputId": "a645b39b-47d3-4d98-d5ea-76f7279578d7"
      },
      "execution_count": 70,
      "outputs": [
        {
          "output_type": "execute_result",
          "data": {
            "text/plain": [
              "TimeSeriesChangePoint(start_time: 2020-04-01T00:00:00.000000000, end_time: 2020-04-01T00:00:00.000000000, confidence: 0.9925085319853847)"
            ]
          },
          "metadata": {},
          "execution_count": 70
        }
      ]
    },
    {
      "cell_type": "code",
      "source": [
        "print('metric','=',change_point.metric)\n",
        "print('index','=',change_point.index)\n",
        "uk['time'].iloc[change_point.index]"
      ],
      "metadata": {
        "colab": {
          "base_uri": "https://localhost:8080/",
          "height": 70
        },
        "id": "dDm711DUd8qw",
        "outputId": "3725b77b-2f8e-438a-91c0-006957f12a76"
      },
      "execution_count": 71,
      "outputs": [
        {
          "output_type": "stream",
          "name": "stdout",
          "text": [
            "metric = 0.8866766\n",
            "index = 15\n"
          ]
        },
        {
          "output_type": "execute_result",
          "data": {
            "text/plain": [
              "'2020-04'"
            ],
            "application/vnd.google.colaboratory.intrinsic+json": {
              "type": "string"
            }
          },
          "metadata": {},
          "execution_count": 71
        }
      ]
    },
    {
      "cell_type": "code",
      "source": [
        "from kats.utils.simulator import Simulator\n",
        "from kats.tsfeatures.tsfeatures import TsFeatures\n",
        "model = TsFeatures()\n",
        "output_features = model.transform(tsd)\n",
        "output_features"
      ],
      "metadata": {
        "id": "DRRTYfkJCul1",
        "outputId": "ce4b7473-85f6-4902-ab0d-4449d4053bc6",
        "colab": {
          "base_uri": "https://localhost:8080/"
        }
      },
      "execution_count": 77,
      "outputs": [
        {
          "output_type": "stream",
          "name": "stderr",
          "text": [
            "/usr/local/lib/python3.7/dist-packages/statsmodels/tsa/stattools.py:1907: InterpolationWarning:\n",
            "\n",
            "The test statistic is outside of the range of p-values available in the\n",
            "look-up table. The actual p-value is smaller than the p-value returned.\n",
            "\n",
            "\n",
            "WARNING:root:Holt-Winters failed Data must be positive.\n"
          ]
        },
        {
          "output_type": "execute_result",
          "data": {
            "text/plain": [
              "{'binarize_mean': 0.475,\n",
              " 'crossing_points': 6,\n",
              " 'diff1y_acf1': 0.3034129476649195,\n",
              " 'diff1y_acf5': 0.450924369314712,\n",
              " 'diff1y_pacf5': 0.48026110131619787,\n",
              " 'diff2y_acf1': -0.08690072327037389,\n",
              " 'diff2y_acf5': 0.23121435778257207,\n",
              " 'diff2y_pacf5': 0.7345324575906149,\n",
              " 'entropy': 0.3850959014739434,\n",
              " 'firstmin_ac': 4,\n",
              " 'firstzero_ac': 10,\n",
              " 'flat_spots': 1,\n",
              " 'heterogeneity': 12.345110327769508,\n",
              " 'histogram_mode': -1.412027,\n",
              " 'holt_alpha': 0.9999999850988388,\n",
              " 'holt_beta': 0.0,\n",
              " 'hurst': -0.023961607810251563,\n",
              " 'hw_alpha': nan,\n",
              " 'hw_beta': nan,\n",
              " 'hw_gamma': nan,\n",
              " 'length': 40,\n",
              " 'level_shift_idx': 6,\n",
              " 'level_shift_size': 0.16149705000000014,\n",
              " 'linearity': 0.30957191531041967,\n",
              " 'lumpiness': 0.0035723833985835157,\n",
              " 'mean': 2.499999990079882e-08,\n",
              " 'peak': 6,\n",
              " 'seas_acf1': 0.3554505855160967,\n",
              " 'seas_pacf1': -0.32964553548729325,\n",
              " 'seasonality_strength': 0.5492750101133497,\n",
              " 'spikiness': 1.543073922160958e-05,\n",
              " 'stability': 0.7050005956070909,\n",
              " 'std1st_der': 0.410761075877449,\n",
              " 'trend_strength': 0.8718229947570384,\n",
              " 'trough': 3,\n",
              " 'unitroot_kpss': 0.29597646737968286,\n",
              " 'var': 0.9750000094624248,\n",
              " 'y_acf1': 0.8535990279699,\n",
              " 'y_acf5': 1.800991947363038,\n",
              " 'y_pacf5': 1.1772569470582754}"
            ]
          },
          "metadata": {},
          "execution_count": 77
        }
      ]
    },
    {
      "cell_type": "code",
      "source": [
        ""
      ],
      "metadata": {
        "id": "y5gG5ba6C0pG"
      },
      "execution_count": null,
      "outputs": []
    }
  ]
}