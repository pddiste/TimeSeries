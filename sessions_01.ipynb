{
  "nbformat": 4,
  "nbformat_minor": 0,
  "metadata": {
    "colab": {
      "name": "sessions-01.ipynb",
      "provenance": [],
      "collapsed_sections": [],
      "authorship_tag": "ABX9TyO3V30a69F4xZeI+8+KqwWy",
      "include_colab_link": true
    },
    "kernelspec": {
      "name": "python3",
      "display_name": "Python 3"
    },
    "language_info": {
      "name": "python"
    }
  },
  "cells": [
    {
      "cell_type": "markdown",
      "metadata": {
        "id": "view-in-github",
        "colab_type": "text"
      },
      "source": [
        "<a href=\"https://colab.research.google.com/github/pddiste/TimeSeries/blob/master/sessions_01.ipynb\" target=\"_parent\"><img src=\"https://colab.research.google.com/assets/colab-badge.svg\" alt=\"Open In Colab\"/></a>"
      ]
    },
    {
      "cell_type": "code",
      "execution_count": 1,
      "metadata": {
        "id": "kbHR9lP9SpeF"
      },
      "outputs": [],
      "source": [
        "%%capture\n",
        "# For Google Colab:\n",
        "!pip install kats\n",
        "!wget https://raw.githubusercontent.com/pddiste/TimeSeries/master/UK.csv"
      ]
    },
    {
      "cell_type": "code",
      "source": [
        "import numpy as np\n",
        "import pandas as pd\n",
        "import matplotlib.pyplot as plt\n",
        "import logging\n",
        "from imp import reload\n",
        "from datetime import datetime, timedelta\n",
        "import sys\n",
        "sys.path.append(\"../\")\n",
        "\n",
        "from kats.consts import TimeSeriesData\n",
        "reload(logging)\n"
      ],
      "metadata": {
        "colab": {
          "base_uri": "https://localhost:8080/"
        },
        "id": "X7pGoI10S1gN",
        "outputId": "ca2902e6-615e-40ef-8e9f-013da6bebe7f"
      },
      "execution_count": 2,
      "outputs": [
        {
          "output_type": "execute_result",
          "data": {
            "text/plain": [
              "<module 'logging' from '/usr/lib/python3.7/logging/__init__.py'>"
            ]
          },
          "metadata": {},
          "execution_count": 2
        }
      ]
    },
    {
      "cell_type": "code",
      "source": [
        "uk = pd.read_csv(\"UK.csv\")\n",
        "uk = uk.rename(columns={'date':'time'})       # ts implica 'time'\n",
        "print(uk.info(verbose=True))"
      ],
      "metadata": {
        "colab": {
          "base_uri": "https://localhost:8080/"
        },
        "id": "FyegtRZTTGtC",
        "outputId": "fa80c422-e85d-4a79-d042-d8426179e9f8"
      },
      "execution_count": 9,
      "outputs": [
        {
          "output_type": "stream",
          "name": "stdout",
          "text": [
            "<class 'pandas.core.frame.DataFrame'>\n",
            "RangeIndex: 40 entries, 0 to 39\n",
            "Data columns (total 5 columns):\n",
            " #   Column    Non-Null Count  Dtype \n",
            "---  ------    --------------  ----- \n",
            " 0   time      40 non-null     object\n",
            " 1   year      40 non-null     int64 \n",
            " 2   month     40 non-null     int64 \n",
            " 3   sessions  40 non-null     int64 \n",
            " 4   searches  40 non-null     int64 \n",
            "dtypes: int64(4), object(1)\n",
            "memory usage: 1.7+ KB\n",
            "None\n"
          ]
        }
      ]
    },
    {
      "cell_type": "code",
      "source": [
        "# import packages\n",
        "from kats.detectors.cusum_detection import CUSUMDetector\n"
      ],
      "metadata": {
        "id": "AQF7ZvVc5CZW"
      },
      "execution_count": 11,
      "outputs": []
    },
    {
      "cell_type": "code",
      "source": [
        "tsd = TimeSeriesData(uk.loc[:,['time','sessions']])\n",
        "\n",
        "detector = CUSUMDetector(tsd)\n",
        "change_points = detector.detector()\n",
        "#change_points = detector.detector(change_directions=[\"decrease\"])\n",
        "#change_points = detector.detector(change_directions=[\"increase\"])\n",
        "\n",
        "detector.plot(change_points)\n",
        "plt.xticks(rotation=45)\n",
        "plt.show()"
      ],
      "metadata": {
        "colab": {
          "base_uri": "https://localhost:8080/",
          "height": 320
        },
        "id": "R1i4hrLd-8L-",
        "outputId": "02cd380e-a276-4512-ed19-9d7ba93b9492"
      },
      "execution_count": 42,
      "outputs": [
        {
          "output_type": "stream",
          "name": "stderr",
          "text": [
            "WARNING:root:No change points detected!\n"
          ]
        },
        {
          "output_type": "display_data",
          "data": {
            "text/plain": [
              "<Figure size 432x288 with 1 Axes>"
            ],
            "image/png": "[encoded data removed]"
          },
          "metadata": {
            "needs_background": "light"
          }
        }
      ]
    },
    {
      "cell_type": "code",
      "source": [
        "change_point\n",
        "\n",
        "print('cp_time','=', change_point.start_time, \" <--> \",change_point.end_time) \n",
        "print('') \n",
        "print('direction','=', change_point.direction) \n",
        "print('cp_index','=', change_point.cp_index) \n",
        "print('mu0','=', change_point.mu0) \n",
        "print('mu1','=', change_point.mu1) \n",
        "print('delta','=', change_point.delta) \n",
        "print('llr_int','=', change_point.llr_int) \n",
        "print('llr','=',change_point.llr) \n",
        "print('regression_detected','=',change_point.regression_detected) \n",
        "print('stable_changepoint','=',change_point.stable_changepoint) \n",
        "print('p_value','=',change_point.p_value) \n",
        "print('p_value','=',change_point.p_value) "
      ],
      "metadata": {
        "colab": {
          "base_uri": "https://localhost:8080/"
        },
        "id": "Gj6k9QuUADX8",
        "outputId": "bddbc943-d4e1-495c-e3ea-3efb882dc634"
      },
      "execution_count": 43,
      "outputs": [
        {
          "output_type": "stream",
          "name": "stdout",
          "text": [
            "cp_time = 2020-02-01 00:00:00  <-->  2020-02-01 00:00:00\n",
            "\n",
            "direction = decrease\n",
            "cp_index = 13\n",
            "mu0 = 7870488.928571428\n",
            "mu1 = 3216419.076923077\n",
            "delta = -4654069.851648351\n",
            "llr_int = inf\n",
            "llr = 46.781439210496615\n",
            "regression_detected = True\n",
            "stable_changepoint = True\n",
            "p_value = 6.942879604565633e-11\n",
            "p_value = 6.942879604565633e-11\n"
          ]
        }
      ]
    },
    {
      "cell_type": "code",
      "source": [
        ""
      ],
      "metadata": {
        "id": "FjTSbtGaE3kZ"
      },
      "execution_count": null,
      "outputs": []
    }
  ]
}