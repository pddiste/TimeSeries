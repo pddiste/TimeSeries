{
  "nbformat": 4,
  "nbformat_minor": 0,
  "metadata": {
    "colab": {
      "name": "sessions-01.ipynb",
      "provenance": [],
      "collapsed_sections": [],
      "authorship_tag": "ABX9TyNm51s+MlHtlGvITsP08N4U",
      "include_colab_link": true
    },
    "kernelspec": {
      "name": "python3",
      "display_name": "Python 3"
    },
    "language_info": {
      "name": "python"
    }
  },
  "cells": [
    {
      "cell_type": "markdown",
      "metadata": {
        "id": "view-in-github",
        "colab_type": "text"
      },
      "source": [
        "<a href=\"https://colab.research.google.com/github/pddiste/TimeSeries/blob/master/sessions_01.ipynb\" target=\"_parent\"><img src=\"https://colab.research.google.com/assets/colab-badge.svg\" alt=\"Open In Colab\"/></a>"
      ]
    },
    {
      "cell_type": "code",
      "execution_count": 19,
      "metadata": {
        "id": "kbHR9lP9SpeF"
      },
      "outputs": [],
      "source": [
        "%%capture\n",
        "# For Google Colab:\n",
        "#!pip install kats\n",
        "!pip install kats[all]\n",
        "!wget https://raw.githubusercontent.com/pddiste/TimeSeries/master/UK.csv\n",
        "#!wget https://raw.githubusercontent.com/pddiste/TimeSeries/master/UK_norm.csv"
      ]
    },
    {
      "cell_type": "code",
      "source": [
        "import numpy as np\n",
        "import pandas as pd\n",
        "import matplotlib.pyplot as plt\n",
        "import logging\n",
        "from imp import reload\n",
        "from datetime import datetime, timedelta\n",
        "import sys\n",
        "sys.path.append(\"../\")\n",
        "\n",
        "from kats.consts import TimeSeriesData\n",
        "reload(logging)\n"
      ],
      "metadata": {
        "colab": {
          "base_uri": "https://localhost:8080/"
        },
        "id": "X7pGoI10S1gN",
        "outputId": "cc4e3e09-91fd-42a7-e80f-c6f53dcd955a"
      },
      "execution_count": 20,
      "outputs": [
        {
          "output_type": "execute_result",
          "data": {
            "text/plain": [
              "<module 'logging' from '/usr/lib/python3.7/logging/__init__.py'>"
            ]
          },
          "metadata": {},
          "execution_count": 20
        }
      ]
    },
    {
      "cell_type": "code",
      "source": [
        "#uk = pd.read_csv(\"UK.csv\", sep=';', decimal=',')\n",
        "uk = pd.read_csv(\"UK.csv\")\n",
        "uk = uk.rename(columns={'date':'time'})       # ts implica 'time'\n",
        "print(uk.info(verbose=True))\n",
        "print(uk.head())"
      ],
      "metadata": {
        "colab": {
          "base_uri": "https://localhost:8080/"
        },
        "id": "FyegtRZTTGtC",
        "outputId": "d23b2b16-26c2-4a62-e750-bae6326482d4"
      },
      "execution_count": 22,
      "outputs": [
        {
          "output_type": "stream",
          "name": "stdout",
          "text": [
            "<class 'pandas.core.frame.DataFrame'>\n",
            "RangeIndex: 40 entries, 0 to 39\n",
            "Data columns (total 5 columns):\n",
            " #   Column    Non-Null Count  Dtype \n",
            "---  ------    --------------  ----- \n",
            " 0   time      40 non-null     object\n",
            " 1   year      40 non-null     int64 \n",
            " 2   month     40 non-null     int64 \n",
            " 3   sessions  40 non-null     int64 \n",
            " 4   searches  40 non-null     int64 \n",
            "dtypes: int64(4), object(1)\n",
            "memory usage: 1.7+ KB\n",
            "None\n",
            "      time  year  month  sessions  searches\n",
            "0  2019-01  2019      1   7454104  11404088\n",
            "1  2019-02  2019      2   6791849   8546751\n",
            "2  2019-03  2019      3   7151561   9545732\n",
            "3  2019-04  2019      4   7111621   9653586\n",
            "4  2019-05  2019      5   7799312  11082118\n"
          ]
        }
      ]
    },
    {
      "cell_type": "code",
      "source": [
        "# import packages\n",
        "from kats.detectors.cusum_detection import CUSUMDetector\n",
        "\n",
        "tsd = TimeSeriesData(uk.loc[:,['time','sessions']])\n",
        "\n",
        "detector = CUSUMDetector(tsd)\n",
        "change_points = detector.detector()\n",
        "#change_points = detector.detector(change_directions=[\"decrease\"])\n",
        "#change_points = detector.detector(change_directions=[\"increase\"])\n",
        "\n",
        "detector.plot(change_points)\n",
        "plt.xticks(rotation=45)\n",
        "plt.show()\n"
      ],
      "metadata": {
        "colab": {
          "base_uri": "https://localhost:8080/",
          "height": 320
        },
        "id": "R1i4hrLd-8L-",
        "outputId": "df2f8aaa-e519-41d0-8a4b-abfc598ddcb2"
      },
      "execution_count": 23,
      "outputs": [
        {
          "output_type": "stream",
          "name": "stderr",
          "text": [
            "WARNING:root:No change points detected!\n"
          ]
        },
        {
          "output_type": "display_data",
          "data": {
            "text/plain": [
              "<Figure size 432x288 with 1 Axes>"
            ],
            "image/png": "[encoded data removed]"
          },
          "metadata": {
            "needs_background": "light"
          }
        }
      ]
    },
    {
      "cell_type": "code",
      "source": [
        "print('# cp =', len(change_points))\n",
        "\n",
        "change_point= change_points[0]\n",
        "print(change_point)\n",
        "\n",
        "print('cp_time','=', change_point.start_time, \" <--> \",change_point.end_time) \n",
        "print('') \n",
        "print('confidence','=', change_point.confidence) \n",
        "print('direction','=', change_point.direction) \n",
        "print('cp_index','=', change_point.cp_index) \n",
        "print('mu0','=', change_point.mu0) \n",
        "print('mu1','=', change_point.mu1) \n",
        "print('delta','=', change_point.delta) \n",
        "print('llr_int','=', change_point.llr_int) \n",
        "print('llr','=',change_point.llr) \n",
        "print('regression_detected','=',change_point.regression_detected) \n",
        "print('stable_changepoint','=',change_point.stable_changepoint) \n",
        "print('p_value','=',change_point.p_value) \n",
        "print('p_value_int','=',change_point.p_value_int) "
      ],
      "metadata": {
        "colab": {
          "base_uri": "https://localhost:8080/"
        },
        "id": "Gj6k9QuUADX8",
        "outputId": "cd79fd00-3a8e-4e9f-ceae-0024c716fc7a"
      },
      "execution_count": 24,
      "outputs": [
        {
          "output_type": "stream",
          "name": "stdout",
          "text": [
            "# cp = 1\n",
            "CUSUMChangePoint(start_time: 2020-02-01 00:00:00, end_time: 2020-02-01 00:00:00, confidence: 0.9999999999305712, direction: decrease, index: 13, delta: -4654069.851648351, regression_detected: True, stable_changepoint: True, mu0: 7870488.928571428, mu1: 3216419.076923077, llr: 46.781439210496615, llr_int: inf, p_value: 6.942879604565633e-11, p_value_int: nan)\n",
            "cp_time = 2020-02-01 00:00:00  <-->  2020-02-01 00:00:00\n",
            "\n",
            "confidence = 0.9999999999305712\n",
            "direction = decrease\n",
            "cp_index = 13\n",
            "mu0 = 7870488.928571428\n",
            "mu1 = 3216419.076923077\n",
            "delta = -4654069.851648351\n",
            "llr_int = inf\n",
            "llr = 46.781439210496615\n",
            "regression_detected = True\n",
            "stable_changepoint = True\n",
            "p_value = 6.942879604565633e-11\n",
            "p_value_int = nan\n"
          ]
        }
      ]
    },
    {
      "cell_type": "code",
      "source": [
        "# import package\n",
        "from kats.detectors.robust_stat_detection import RobustStatDetector\n",
        "\n",
        "tsd = TimeSeriesData(uk.loc[:,['time','sessions']])\n",
        "detector = RobustStatDetector(tsd)\n",
        "change_points = detector.detector()\n",
        "\n",
        "detector.plot(change_points)\n",
        "plt.xticks(rotation=45)\n",
        "plt.show()"
      ],
      "metadata": {
        "colab": {
          "base_uri": "https://localhost:8080/",
          "height": 320
        },
        "id": "YqgV5urXO6dH",
        "outputId": "70f34529-ec60-4af2-da9d-6a393b7b80dc"
      },
      "execution_count": 25,
      "outputs": [
        {
          "output_type": "stream",
          "name": "stderr",
          "text": [
            "WARNING:root:No change points detected!\n"
          ]
        },
        {
          "output_type": "display_data",
          "data": {
            "text/plain": [
              "<Figure size 432x288 with 1 Axes>"
            ],
            "image/png": "[encoded data removed]"
          },
          "metadata": {
            "needs_background": "light"
          }
        }
      ]
    },
    {
      "cell_type": "code",
      "source": [
        "change_point = change_points[0]\n",
        "change_point"
      ],
      "metadata": {
        "colab": {
          "base_uri": "https://localhost:8080/"
        },
        "id": "wet4QzrHd77f",
        "outputId": "87d7bff9-9663-4e1b-959b-415e4a77586a"
      },
      "execution_count": 26,
      "outputs": [
        {
          "output_type": "execute_result",
          "data": {
            "text/plain": [
              "TimeSeriesChangePoint(start_time: 2020-04-01T00:00:00.000000000, end_time: 2020-04-01T00:00:00.000000000, confidence: 0.9925085298585895)"
            ]
          },
          "metadata": {},
          "execution_count": 26
        }
      ]
    },
    {
      "cell_type": "code",
      "source": [
        "print('metric','=',change_point.metric)\n",
        "print('index','=',change_point.index)\n",
        "uk['time'].iloc[change_point.index]"
      ],
      "metadata": {
        "colab": {
          "base_uri": "https://localhost:8080/",
          "height": 70
        },
        "id": "dDm711DUd8qw",
        "outputId": "d18f3a36-26da-47f7-da6d-3508d4770a3d"
      },
      "execution_count": 27,
      "outputs": [
        {
          "output_type": "stream",
          "name": "stdout",
          "text": [
            "metric = 2399918.4000000004\n",
            "index = 15\n"
          ]
        },
        {
          "output_type": "execute_result",
          "data": {
            "text/plain": [
              "'2020-04'"
            ],
            "application/vnd.google.colaboratory.intrinsic+json": {
              "type": "string"
            }
          },
          "metadata": {},
          "execution_count": 27
        }
      ]
    },
    {
      "cell_type": "code",
      "source": [
        "from kats.utils.simulator import Simulator\n",
        "from kats.tsfeatures.tsfeatures import TsFeatures\n",
        "model = TsFeatures()\n",
        "output_features = model.transform(tsd)\n",
        "output_features"
      ],
      "metadata": {
        "colab": {
          "base_uri": "https://localhost:8080/"
        },
        "id": "DRRTYfkJCul1",
        "outputId": "90490754-7488-4ebe-dcaa-9c6aaa297f11"
      },
      "execution_count": 28,
      "outputs": [
        {
          "output_type": "stream",
          "name": "stderr",
          "text": [
            "/usr/local/lib/python3.7/dist-packages/statsmodels/tsa/stattools.py:1907: InterpolationWarning:\n",
            "\n",
            "The test statistic is outside of the range of p-values available in the\n",
            "look-up table. The actual p-value is smaller than the p-value returned.\n",
            "\n",
            "\n",
            "/usr/local/lib/python3.7/dist-packages/statsmodels/tsa/holtwinters/model.py:922: ConvergenceWarning:\n",
            "\n",
            "Optimization failed to converge. Check mle_retvals.\n",
            "\n",
            "/usr/local/lib/python3.7/dist-packages/statsmodels/tsa/holtwinters/model.py:922: ConvergenceWarning:\n",
            "\n",
            "Optimization failed to converge. Check mle_retvals.\n",
            "\n"
          ]
        },
        {
          "output_type": "execute_result",
          "data": {
            "text/plain": [
              "{'binarize_mean': 0.475,\n",
              " 'crossing_points': 6,\n",
              " 'diff1y_acf1': 0.3034131137792905,\n",
              " 'diff1y_acf5': 0.4509243242949967,\n",
              " 'diff1y_pacf5': 0.4802614481670804,\n",
              " 'diff2y_acf1': -0.08690037266054514,\n",
              " 'diff2y_acf5': 0.23121438613716527,\n",
              " 'diff2y_pacf5': 0.7345328500758588,\n",
              " 'entropy': 0.38509583828475963,\n",
              " 'firstmin_ac': 4,\n",
              " 'firstzero_ac': 10,\n",
              " 'flat_spots': 1,\n",
              " 'heterogeneity': 25.765883189358217,\n",
              " 'histogram_mode': 1023488.0,\n",
              " 'holt_alpha': 0.995,\n",
              " 'holt_beta': 0.0001,\n",
              " 'hurst': -0.023961517562423693,\n",
              " 'hw_alpha': 0.995,\n",
              " 'hw_beta': 0.0001,\n",
              " 'hw_gamma': 0.0001,\n",
              " 'length': 40,\n",
              " 'level_shift_idx': 6,\n",
              " 'level_shift_size': 437115.2000000002,\n",
              " 'linearity': 0.3095718845525315,\n",
              " 'lumpiness': 1.917265783604298e+23,\n",
              " 'mean': 4845343.525,\n",
              " 'peak': 6,\n",
              " 'seas_acf1': 0.3554505562450361,\n",
              " 'seas_pacf1': -0.32964546542773887,\n",
              " 'seasonality_strength': 0.5492749649608077,\n",
              " 'spikiness': 8.28154974216397e+20,\n",
              " 'stability': 5164782102833.562,\n",
              " 'std1st_der': 1111784.2580879584,\n",
              " 'trend_strength': 0.871822998393003,\n",
              " 'trough': 3,\n",
              " 'unitroot_kpss': 0.295976496060746,\n",
              " 'var': 7142777745969.047,\n",
              " 'y_acf1': 0.8535990588963154,\n",
              " 'y_acf5': 1.8009921247375902,\n",
              " 'y_pacf5': 1.177257544946137}"
            ]
          },
          "metadata": {},
          "execution_count": 28
        }
      ]
    },
    {
      "cell_type": "code",
      "source": [
        "\n",
        "\n",
        "# import the param and model classes for Prophet model\n",
        "from kats.models.prophet import ProphetModel, ProphetParams\n",
        "\n",
        "# create a model param instance\n",
        "params = ProphetParams( seasonality_mode='additive') # additive mode gives worse results - multiplicative\n",
        "\n",
        "# create a prophet model instance\n",
        "m = ProphetModel(tsd, params)\n",
        "\n",
        "# fit model simply by calling m.fit()\n",
        "m.fit()\n",
        "\n",
        "# make prediction for next 30 month\n",
        "fcst = m.predict(steps=2)   # , freq=\"MS\"\n",
        "\n",
        "\n",
        "\n",
        "# the predict method returns a dataframe as follows\n",
        "print(fcst.head())\n",
        "\n"
      ],
      "metadata": {
        "id": "y5gG5ba6C0pG",
        "colab": {
          "base_uri": "https://localhost:8080/"
        },
        "outputId": "259a4ed5-dc27-4ad1-97d8-d4edc5980ea6"
      },
      "execution_count": 34,
      "outputs": [
        {
          "output_type": "stream",
          "name": "stderr",
          "text": [
            "INFO:fbprophet:Disabling weekly seasonality. Run prophet with weekly_seasonality=True to override this.\n",
            "INFO:fbprophet:Disabling daily seasonality. Run prophet with daily_seasonality=True to override this.\n"
          ]
        },
        {
          "output_type": "stream",
          "name": "stdout",
          "text": [
            "        time          fcst    fcst_lower    fcst_upper\n",
            "0 2022-05-01  7.836698e+05 -1.729438e+06  3.326087e+06\n",
            "1 2022-06-01  1.509298e+06 -1.177643e+06  3.815345e+06\n"
          ]
        }
      ]
    },
    {
      "cell_type": "code",
      "source": [
        "# import param and model from `kats.models.theta`\n",
        "from kats.models.theta import ThetaModel, ThetaParams\n",
        "\n",
        "# create ThetaParam with specifying seasonality param value\n",
        "params = ThetaParams(m=12)\n",
        "\n",
        "# create ThetaModel with given data and parameter class\n",
        "m = ThetaModel(data=tsd, params=params)\n",
        "\n",
        "# call fit method to fit model\n",
        "m.fit()\n",
        "\n",
        "# call predict method to predict the next 30 steps\n",
        "res = m.predict(steps=3, alpha=0.5)\n",
        "\n",
        "# visualize the results\n",
        "m.plot()\n",
        "\n"
      ],
      "metadata": {
        "colab": {
          "base_uri": "https://localhost:8080/",
          "height": 773
        },
        "id": "kx_mvRMUIc80",
        "outputId": "dfb63894-b769-417a-e947-99d4487a3c19"
      },
      "execution_count": 45,
      "outputs": [
        {
          "output_type": "stream",
          "name": "stderr",
          "text": [
            "/usr/local/lib/python3.7/dist-packages/statsmodels/tsa/stattools.py:671: FutureWarning:\n",
            "\n",
            "fft=True will become the default after the release of the 0.12 release of statsmodels. To suppress this warning, explicitly set fft=False.\n",
            "\n",
            "/usr/local/lib/python3.7/dist-packages/statsmodels/tsa/holtwinters/model.py:429: FutureWarning:\n",
            "\n",
            "After 0.13 initialization must be handled at model creation\n",
            "\n",
            "/usr/local/lib/python3.7/dist-packages/statsmodels/tsa/holtwinters/model.py:922: ConvergenceWarning:\n",
            "\n",
            "Optimization failed to converge. Check mle_retvals.\n",
            "\n",
            "/usr/local/lib/python3.7/dist-packages/kats/models/theta.py:130: FutureWarning:\n",
            "\n",
            "`rcond` parameter will change to the default of machine precision times ``max(M, N)`` where M and N are the input matrix dimensions.\n",
            "To use the future default and silence this warning we advise to pass `rcond=None`, to keep using the old, explicitly pass `rcond=-1`.\n",
            "\n"
          ]
        },
        {
          "output_type": "execute_result",
          "data": {
            "text/plain": [
              "<matplotlib.axes._subplots.AxesSubplot at 0x7f323b23fb10>"
            ]
          },
          "metadata": {},
          "execution_count": 45
        },
        {
          "output_type": "display_data",
          "data": {
            "text/plain": [
              "<Figure size 720x432 with 1 Axes>"
            ],
            "image/png": "[encoded data removed]"
          },
          "metadata": {}
        }
      ]
    },
    {
      "cell_type": "code",
      "source": [
        "ThetaModel.mle_retvals"
      ],
      "metadata": {
        "colab": {
          "base_uri": "https://localhost:8080/",
          "height": 165
        },
        "id": "CwoEnH0TJjUq",
        "outputId": "69976651-1951-461d-c869-74416913f3c8"
      },
      "execution_count": 41,
      "outputs": [
        {
          "output_type": "error",
          "ename": "AttributeError",
          "evalue": "ignored",
          "traceback": [
            "\u001b[0;31m---------------------------------------------------------------------------\u001b[0m",
            "\u001b[0;31mAttributeError\u001b[0m                            Traceback (most recent call last)",
            "\u001b[0;32m<ipython-input-41-61c8afdb2bb6>\u001b[0m in \u001b[0;36m<module>\u001b[0;34m()\u001b[0m\n\u001b[0;32m----> 1\u001b[0;31m \u001b[0mThetaModel\u001b[0m\u001b[0;34m.\u001b[0m\u001b[0mmle_retvals\u001b[0m\u001b[0;34m\u001b[0m\u001b[0;34m\u001b[0m\u001b[0m\n\u001b[0m",
            "\u001b[0;31mAttributeError\u001b[0m: type object 'ThetaModel' has no attribute 'mle_retvals'"
          ]
        }
      ]
    },
    {
      "cell_type": "code",
      "source": [
        ""
      ],
      "metadata": {
        "id": "ni0hgK7LJj5g"
      },
      "execution_count": null,
      "outputs": []
    }
  ]
}