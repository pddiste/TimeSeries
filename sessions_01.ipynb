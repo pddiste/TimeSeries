{
  "nbformat": 4,
  "nbformat_minor": 0,
  "metadata": {
    "colab": {
      "name": "sessions-01.ipynb",
      "provenance": [],
      "authorship_tag": "ABX9TyN6PTolCeZQ2rMtpH0LaseQ",
      "include_colab_link": true
    },
    "kernelspec": {
      "name": "python3",
      "display_name": "Python 3"
    },
    "language_info": {
      "name": "python"
    }
  },
  "cells": [
    {
      "cell_type": "markdown",
      "metadata": {
        "id": "view-in-github",
        "colab_type": "text"
      },
      "source": [
        "<a href=\"https://colab.research.google.com/github/pddiste/TimeSeries/blob/master/sessions_01.ipynb\" target=\"_parent\"><img src=\"https://colab.research.google.com/assets/colab-badge.svg\" alt=\"Open In Colab\"/></a>"
      ]
    },
    {
      "cell_type": "code",
      "execution_count": 1,
      "metadata": {
        "id": "kbHR9lP9SpeF"
      },
      "outputs": [],
      "source": [
        "%%capture\n",
        "# For Google Colab:\n",
        "!pip install kats\n",
        "!wget https://raw.githubusercontent.com/pddiste/TimeSeries/master/UK.csv"
      ]
    },
    {
      "cell_type": "code",
      "source": [
        "import numpy as np\n",
        "import pandas as pd\n",
        "import matplotlib.pyplot as plt\n",
        "import logging\n",
        "from imp import reload\n",
        "from datetime import datetime, timedelta\n",
        "import sys\n",
        "sys.path.append(\"../\")\n",
        "\n",
        "from kats.consts import TimeSeriesData\n",
        "reload(logging)\n"
      ],
      "metadata": {
        "colab": {
          "base_uri": "https://localhost:8080/"
        },
        "id": "X7pGoI10S1gN",
        "outputId": "7f9390bb-c5f7-4ed8-d57b-d3526f04a030"
      },
      "execution_count": 2,
      "outputs": [
        {
          "output_type": "execute_result",
          "data": {
            "text/plain": [
              "<module 'logging' from '/usr/lib/python3.7/logging/__init__.py'>"
            ]
          },
          "metadata": {},
          "execution_count": 2
        }
      ]
    },
    {
      "cell_type": "code",
      "source": [
        "uk = pd.read_csv(\"UK.csv\")"
      ],
      "metadata": {
        "id": "FyegtRZTTGtC"
      },
      "execution_count": 6,
      "outputs": []
    },
    {
      "cell_type": "code",
      "source": [
        "!ls"
      ],
      "metadata": {
        "colab": {
          "base_uri": "https://localhost:8080/"
        },
        "id": "XMNBatoITgAU",
        "outputId": "3275a926-d42d-42c8-cbe9-3919bfe146e5"
      },
      "execution_count": 7,
      "outputs": [
        {
          "output_type": "stream",
          "name": "stdout",
          "text": [
            "sample_data  UK.csv\n"
          ]
        }
      ]
    },
    {
      "cell_type": "code",
      "source": [
        ""
      ],
      "metadata": {
        "id": "92RlUigXTg-q"
      },
      "execution_count": null,
      "outputs": []
    }
  ]
}