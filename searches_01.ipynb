{
  "nbformat": 4,
  "nbformat_minor": 0,
  "metadata": {
    "colab": {
      "name": "searches-01.ipynb",
      "provenance": [],
      "authorship_tag": "ABX9TyNc7jryFUcpLUCXJxIawHZZ",
      "include_colab_link": true
    },
    "kernelspec": {
      "name": "python3",
      "display_name": "Python 3"
    },
    "language_info": {
      "name": "python"
    }
  },
  "cells": [
    {
      "cell_type": "markdown",
      "metadata": {
        "id": "view-in-github",
        "colab_type": "text"
      },
      "source": [
        "<a href=\"https://colab.research.google.com/github/pddiste/TimeSeries/blob/master/searches_01.ipynb\" target=\"_parent\"><img src=\"https://colab.research.google.com/assets/colab-badge.svg\" alt=\"Open In Colab\"/></a>"
      ]
    },
    {
      "cell_type": "code",
      "execution_count": null,
      "metadata": {
        "id": "MlHRhP_-QoE8"
      },
      "outputs": [],
      "source": [
        ""
      ]
    },
    {
      "cell_type": "code",
      "execution_count": 1,
      "metadata": {
        "id": "kbHR9lP9SpeF"
      },
      "outputs": [],
      "source": [
        "%%capture\n",
        "# For Google Colab:\n",
        "!pip install kats\n",
        "!wget https://raw.githubusercontent.com/pddiste/TimeSeries/master/UK.csv"
      ]
    },
    {
      "cell_type": "code",
      "source": [
        "import numpy as np\n",
        "import pandas as pd\n",
        "import matplotlib.pyplot as plt\n",
        "import logging\n",
        "from imp import reload\n",
        "from datetime import datetime, timedelta\n",
        "import sys\n",
        "sys.path.append(\"../\")\n",
        "\n",
        "from kats.consts import TimeSeriesData\n",
        "reload(logging)\n"
      ],
      "metadata": {
        "colab": {
          "base_uri": "https://localhost:8080/"
        },
        "id": "X7pGoI10S1gN",
        "outputId": "7d119ad1-1426-42e5-e6bd-edce9534fc93"
      },
      "execution_count": 2,
      "outputs": [
        {
          "output_type": "execute_result",
          "data": {
            "text/plain": [
              "<module 'logging' from '/usr/lib/python3.7/logging/__init__.py'>"
            ]
          },
          "metadata": {},
          "execution_count": 2
        }
      ]
    },
    {
      "cell_type": "code",
      "source": [
        "uk = pd.read_csv(\"UK.csv\")\n",
        "uk = uk.rename(columns={'date':'time'})       # ts implica 'time'\n",
        "print(uk.info(verbose=True))"
      ],
      "metadata": {
        "colab": {
          "base_uri": "https://localhost:8080/"
        },
        "id": "FyegtRZTTGtC",
        "outputId": "276f1501-c37e-464d-b8ef-83baf3537859"
      },
      "execution_count": 3,
      "outputs": [
        {
          "output_type": "stream",
          "name": "stdout",
          "text": [
            "<class 'pandas.core.frame.DataFrame'>\n",
            "RangeIndex: 40 entries, 0 to 39\n",
            "Data columns (total 5 columns):\n",
            " #   Column    Non-Null Count  Dtype \n",
            "---  ------    --------------  ----- \n",
            " 0   time      40 non-null     object\n",
            " 1   year      40 non-null     int64 \n",
            " 2   month     40 non-null     int64 \n",
            " 3   sessions  40 non-null     int64 \n",
            " 4   searches  40 non-null     int64 \n",
            "dtypes: int64(4), object(1)\n",
            "memory usage: 1.7+ KB\n",
            "None\n"
          ]
        }
      ]
    },
    {
      "cell_type": "code",
      "source": [
        "# import packages\n",
        "from kats.detectors.cusum_detection import CUSUMDetector\n",
        "\n",
        "tsd = TimeSeriesData(uk.loc[:,['time','searches']])\n",
        "\n",
        "detector = CUSUMDetector(tsd)\n",
        "change_points = detector.detector()\n",
        "#change_points = detector.detector(change_directions=[\"decrease\"])\n",
        "#change_points = detector.detector(change_directions=[\"increase\"])\n",
        "\n",
        "detector.plot(change_points)\n",
        "plt.xticks(rotation=45)\n",
        "plt.show()"
      ],
      "metadata": {
        "colab": {
          "base_uri": "https://localhost:8080/",
          "height": 320
        },
        "id": "R1i4hrLd-8L-",
        "outputId": "ffd7744c-61fe-4132-fa44-f1afac0daa31"
      },
      "execution_count": 4,
      "outputs": [
        {
          "output_type": "stream",
          "name": "stderr",
          "text": [
            "WARNING:root:No change points detected!\n"
          ]
        },
        {
          "output_type": "display_data",
          "data": {
            "text/plain": [
              "<Figure size 432x288 with 1 Axes>"
            ],
            "image/png": "[encoded data removed]"
          },
          "metadata": {
            "needs_background": "light"
          }
        }
      ]
    },
    {
      "cell_type": "code",
      "source": [
        "print('# cp =', len(change_points))\n",
        "\n",
        "change_point= change_points[0]\n",
        "print(change_point)\n",
        "\n",
        "print('cp_time','=', change_point.start_time, \" <--> \",change_point.end_time) \n",
        "print('') \n",
        "print('confidence','=', change_point.confidence) \n",
        "print('direction','=', change_point.direction) \n",
        "print('cp_index','=', change_point.cp_index) \n",
        "print('mu0','=', change_point.mu0) \n",
        "print('mu1','=', change_point.mu1) \n",
        "print('delta','=', change_point.delta) \n",
        "print('llr_int','=', change_point.llr_int) \n",
        "print('llr','=',change_point.llr) \n",
        "print('regression_detected','=',change_point.regression_detected) \n",
        "print('stable_changepoint','=',change_point.stable_changepoint) \n",
        "print('p_value','=',change_point.p_value) \n",
        "print('p_value_int','=',change_point.p_value_int) "
      ],
      "metadata": {
        "colab": {
          "base_uri": "https://localhost:8080/"
        },
        "id": "Gj6k9QuUADX8",
        "outputId": "284f3dce-7edc-44bc-e096-cb92df997130"
      },
      "execution_count": 5,
      "outputs": [
        {
          "output_type": "stream",
          "name": "stdout",
          "text": [
            "# cp = 1\n",
            "CUSUMChangePoint(start_time: 2020-02-01 00:00:00, end_time: 2020-02-01 00:00:00, confidence: 0.9999999999999297, direction: decrease, index: 13, delta: -7216182.236263737, regression_detected: True, stable_changepoint: True, mu0: 10869213.92857143, mu1: 3653031.6923076925, llr: 60.57133142276169, llr_int: inf, p_value: 7.027711745877241e-14, p_value_int: nan)\n",
            "cp_time = 2020-02-01 00:00:00  <-->  2020-02-01 00:00:00\n",
            "\n",
            "confidence = 0.9999999999999297\n",
            "direction = decrease\n",
            "cp_index = 13\n",
            "mu0 = 10869213.92857143\n",
            "mu1 = 3653031.6923076925\n",
            "delta = -7216182.236263737\n",
            "llr_int = inf\n",
            "llr = 60.57133142276169\n",
            "regression_detected = True\n",
            "stable_changepoint = True\n",
            "p_value = 7.027711745877241e-14\n",
            "p_value_int = nan\n"
          ]
        }
      ]
    },
    {
      "cell_type": "code",
      "source": [
        "# import package\n",
        "from kats.detectors.robust_stat_detection import RobustStatDetector\n",
        "\n",
        "tsd = TimeSeriesData(uk.loc[:,['time','searches']])\n",
        "detector = RobustStatDetector(tsd)\n",
        "change_points = detector.detector()\n",
        "\n",
        "detector.plot(change_points)\n",
        "plt.xticks(rotation=45)\n",
        "plt.show()\n",
        "\n"
      ],
      "metadata": {
        "id": "YqgV5urXO6dH",
        "colab": {
          "base_uri": "https://localhost:8080/",
          "height": 320
        },
        "outputId": "498f3d67-d07b-43d2-b9fd-1bde3f593fb0"
      },
      "execution_count": 6,
      "outputs": [
        {
          "output_type": "stream",
          "name": "stderr",
          "text": [
            "WARNING:root:No change points detected!\n"
          ]
        },
        {
          "output_type": "display_data",
          "data": {
            "text/plain": [
              "<Figure size 432x288 with 1 Axes>"
            ],
            "image/png": "[encoded data removed]"
          },
          "metadata": {
            "needs_background": "light"
          }
        }
      ]
    },
    {
      "cell_type": "code",
      "source": [
        "change_point = change_points[0]\n",
        "change_point"
      ],
      "metadata": {
        "colab": {
          "base_uri": "https://localhost:8080/"
        },
        "id": "iHTO0DjobqTn",
        "outputId": "d223c980-1260-4568-d251-d86c6fd89bbe"
      },
      "execution_count": 7,
      "outputs": [
        {
          "output_type": "execute_result",
          "data": {
            "text/plain": [
              "TimeSeriesChangePoint(start_time: 2020-04-01T00:00:00.000000000, end_time: 2020-04-01T00:00:00.000000000, confidence: 0.9965149932487247)"
            ]
          },
          "metadata": {},
          "execution_count": 7
        }
      ]
    },
    {
      "cell_type": "code",
      "source": [
        "print('metric','=',change_point.metric)\n",
        "print('index','=',change_point.index)\n",
        "uk['time'].iloc[change_point.index]"
      ],
      "metadata": {
        "colab": {
          "base_uri": "https://localhost:8080/",
          "height": 70
        },
        "id": "v0MRxnUNb25H",
        "outputId": "3a23e652-85c4-4326-f459-7bf2c99ee7d4"
      },
      "execution_count": 24,
      "outputs": [
        {
          "output_type": "stream",
          "name": "stdout",
          "text": [
            "metric = 3838737.4\n",
            "index = 15\n"
          ]
        },
        {
          "output_type": "execute_result",
          "data": {
            "text/plain": [
              "'2020-04'"
            ],
            "application/vnd.google.colaboratory.intrinsic+json": {
              "type": "string"
            }
          },
          "metadata": {},
          "execution_count": 24
        }
      ]
    },
    {
      "cell_type": "code",
      "source": [
        ""
      ],
      "metadata": {
        "id": "t_ea7bLodkiF"
      },
      "execution_count": null,
      "outputs": []
    }
  ]
}